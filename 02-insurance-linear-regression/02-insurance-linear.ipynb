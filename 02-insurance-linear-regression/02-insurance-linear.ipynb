{
 "cells": [
  {
   "cell_type": "markdown",
   "metadata": {
    "_cell_guid": "b1076dfc-b9ad-4769-8c92-a6c4dae69d19",
    "_uuid": "8f2839f25d086af736a60e9eeb907d3b93b6e0e5"
   },
   "source": [
    "# Insurance cost prediction using linear regression\n",
    "\n",
    "In this assignment we're going to use information like a person's age, sex, BMI, no. of children and smoking habit to predict the price of yearly medical bills. This kind of model is useful for insurance companies to determine the yearly insurance premium for a person. The dataset for this problem is taken from: https://www.kaggle.com/mirichoi0218/insurance\n",
    "\n",
    "\n",
    "We will create a model with the following steps:\n",
    "1. Download and explore the dataset\n",
    "2. Prepare the dataset for training\n",
    "3. Create a linear regression model\n",
    "4. Train the model to fit the data\n",
    "5. Make predictions using the trained model\n",
    "\n",
    "\n",
    "This assignment builds upon the concepts from the first 2 lectures. It will help to review these Jupyter notebooks:\n",
    "- PyTorch basics: https://jovian.ml/aakashns/01-pytorch-basics\n",
    "- Linear Regression: https://jovian.ml/aakashns/02-linear-regression\n",
    "- Logistic Regression: https://jovian.ml/aakashns/03-logistic-regression\n",
    "- Linear regression (minimal): https://jovian.ml/aakashns/housing-linear-minimal\n",
    "- Logistic regression (minimal): https://jovian.ml/aakashns/mnist-logistic-minimal\n",
    "\n",
    "As you go through this notebook, you will find a **???** in certain places. Your job is to replace the **???** with appropriate code or values, to ensure that the notebook runs properly end-to-end . In some cases, you'll be required to choose some hyperparameters (learning rate, batch size etc.). Try to experiment with the hypeparameters to get the lowest loss.\n"
   ]
  },
  {
   "cell_type": "code",
   "execution_count": 201,
   "metadata": {},
   "outputs": [],
   "source": [
    "# Uncomment and run the commands below if imports fail\n",
    "# !conda install numpy pytorch torchvision cpuonly -c pytorch -y\n",
    "# !pip install matplotlib --upgrade --quiet\n",
    "!pip install jovian --upgrade --quiet"
   ]
  },
  {
   "cell_type": "code",
   "execution_count": 202,
   "metadata": {},
   "outputs": [],
   "source": [
    "import torch\n",
    "import jovian\n",
    "import torchvision\n",
    "import torch.nn as nn\n",
    "import pandas as pd\n",
    "import matplotlib.pyplot as plt\n",
    "import torch.nn.functional as F\n",
    "from torchvision.datasets.utils import download_url\n",
    "from torch.utils.data import DataLoader, TensorDataset, random_split"
   ]
  },
  {
   "cell_type": "code",
   "execution_count": 203,
   "metadata": {},
   "outputs": [],
   "source": [
    "project_name='02-insurance-linear-regression' # will be used by jovian.commit"
   ]
  },
  {
   "cell_type": "markdown",
   "metadata": {},
   "source": [
    "## Step 1: Download and explore the data\n",
    "\n",
    "Let us begin by downloading the data. We'll use the `download_url` function from PyTorch to get the data as a CSV (comma-separated values) file. "
   ]
  },
  {
   "cell_type": "code",
   "execution_count": 204,
   "metadata": {
    "_cell_guid": "79c7e3d0-c299-4dcb-8224-4455121ee9b0",
    "_uuid": "d629ff2d2480ee46fbb7e2d37f6b5fab8052498a"
   },
   "outputs": [
    {
     "name": "stdout",
     "output_type": "stream",
     "text": [
      "Using downloaded and verified file: ./insurance.csv\n"
     ]
    }
   ],
   "source": [
    "DATASET_URL = \"https://hub.jovian.ml/wp-content/uploads/2020/05/insurance.csv\"\n",
    "DATA_FILENAME = \"insurance.csv\"\n",
    "download_url(DATASET_URL, '.')"
   ]
  },
  {
   "cell_type": "markdown",
   "metadata": {},
   "source": [
    "To load the dataset into memory, we'll use the `read_csv` function from the `pandas` library. The data will be loaded as a Pandas dataframe. See this short tutorial to learn more: https://data36.com/pandas-tutorial-1-basics-reading-data-files-dataframes-data-selection/"
   ]
  },
  {
   "cell_type": "code",
   "execution_count": 205,
   "metadata": {},
   "outputs": [
    {
     "data": {
      "text/html": [
       "<div>\n",
       "<style scoped>\n",
       "    .dataframe tbody tr th:only-of-type {\n",
       "        vertical-align: middle;\n",
       "    }\n",
       "\n",
       "    .dataframe tbody tr th {\n",
       "        vertical-align: top;\n",
       "    }\n",
       "\n",
       "    .dataframe thead th {\n",
       "        text-align: right;\n",
       "    }\n",
       "</style>\n",
       "<table border=\"1\" class=\"dataframe\">\n",
       "  <thead>\n",
       "    <tr style=\"text-align: right;\">\n",
       "      <th></th>\n",
       "      <th>age</th>\n",
       "      <th>sex</th>\n",
       "      <th>bmi</th>\n",
       "      <th>children</th>\n",
       "      <th>smoker</th>\n",
       "      <th>region</th>\n",
       "      <th>charges</th>\n",
       "    </tr>\n",
       "  </thead>\n",
       "  <tbody>\n",
       "    <tr>\n",
       "      <th>0</th>\n",
       "      <td>19</td>\n",
       "      <td>female</td>\n",
       "      <td>27.900</td>\n",
       "      <td>0</td>\n",
       "      <td>yes</td>\n",
       "      <td>southwest</td>\n",
       "      <td>16884.92400</td>\n",
       "    </tr>\n",
       "    <tr>\n",
       "      <th>1</th>\n",
       "      <td>18</td>\n",
       "      <td>male</td>\n",
       "      <td>33.770</td>\n",
       "      <td>1</td>\n",
       "      <td>no</td>\n",
       "      <td>southeast</td>\n",
       "      <td>1725.55230</td>\n",
       "    </tr>\n",
       "    <tr>\n",
       "      <th>2</th>\n",
       "      <td>28</td>\n",
       "      <td>male</td>\n",
       "      <td>33.000</td>\n",
       "      <td>3</td>\n",
       "      <td>no</td>\n",
       "      <td>southeast</td>\n",
       "      <td>4449.46200</td>\n",
       "    </tr>\n",
       "    <tr>\n",
       "      <th>3</th>\n",
       "      <td>33</td>\n",
       "      <td>male</td>\n",
       "      <td>22.705</td>\n",
       "      <td>0</td>\n",
       "      <td>no</td>\n",
       "      <td>northwest</td>\n",
       "      <td>21984.47061</td>\n",
       "    </tr>\n",
       "    <tr>\n",
       "      <th>4</th>\n",
       "      <td>32</td>\n",
       "      <td>male</td>\n",
       "      <td>28.880</td>\n",
       "      <td>0</td>\n",
       "      <td>no</td>\n",
       "      <td>northwest</td>\n",
       "      <td>3866.85520</td>\n",
       "    </tr>\n",
       "  </tbody>\n",
       "</table>\n",
       "</div>"
      ],
      "text/plain": [
       "   age     sex     bmi  children smoker     region      charges\n",
       "0   19  female  27.900         0    yes  southwest  16884.92400\n",
       "1   18    male  33.770         1     no  southeast   1725.55230\n",
       "2   28    male  33.000         3     no  southeast   4449.46200\n",
       "3   33    male  22.705         0     no  northwest  21984.47061\n",
       "4   32    male  28.880         0     no  northwest   3866.85520"
      ]
     },
     "execution_count": 205,
     "metadata": {},
     "output_type": "execute_result"
    }
   ],
   "source": [
    "dataframe_raw = pd.read_csv(DATA_FILENAME)\n",
    "dataframe_raw.head()"
   ]
  },
  {
   "cell_type": "markdown",
   "metadata": {},
   "source": [
    "We're going to do a slight customization of the data, so that you every participant receives a slightly different version of the dataset. Fill in your name below as a string (enter at least 5 characters)"
   ]
  },
  {
   "cell_type": "code",
   "execution_count": 206,
   "metadata": {},
   "outputs": [],
   "source": [
    "your_name = 'Khalil Hijazi' # at least 5 characters"
   ]
  },
  {
   "cell_type": "markdown",
   "metadata": {},
   "source": [
    "The `customize_dataset` function will customize the dataset slightly using your name as a source of random numbers."
   ]
  },
  {
   "cell_type": "code",
   "execution_count": 207,
   "metadata": {},
   "outputs": [],
   "source": [
    "def customize_dataset(dataframe_raw, rand_str):\n",
    "    dataframe = dataframe_raw.copy(deep=True)\n",
    "    # drop some rows\n",
    "    dataframe = dataframe.sample(int(0.95*len(dataframe)), random_state=int(ord(rand_str[0])))\n",
    "    # scale input\n",
    "    dataframe.bmi = dataframe.bmi * ord(rand_str[1])/100.\n",
    "    # scale target\n",
    "    dataframe.charges = dataframe.charges * ord(rand_str[2])/100.\n",
    "    # drop column\n",
    "    if ord(rand_str[3]) % 2 == 1:\n",
    "        dataframe = dataframe.drop(['region'], axis=1)\n",
    "    return dataframe"
   ]
  },
  {
   "cell_type": "code",
   "execution_count": 208,
   "metadata": {},
   "outputs": [
    {
     "data": {
      "text/html": [
       "<div>\n",
       "<style scoped>\n",
       "    .dataframe tbody tr th:only-of-type {\n",
       "        vertical-align: middle;\n",
       "    }\n",
       "\n",
       "    .dataframe tbody tr th {\n",
       "        vertical-align: top;\n",
       "    }\n",
       "\n",
       "    .dataframe thead th {\n",
       "        text-align: right;\n",
       "    }\n",
       "</style>\n",
       "<table border=\"1\" class=\"dataframe\">\n",
       "  <thead>\n",
       "    <tr style=\"text-align: right;\">\n",
       "      <th></th>\n",
       "      <th>age</th>\n",
       "      <th>sex</th>\n",
       "      <th>bmi</th>\n",
       "      <th>children</th>\n",
       "      <th>smoker</th>\n",
       "      <th>region</th>\n",
       "      <th>charges</th>\n",
       "    </tr>\n",
       "  </thead>\n",
       "  <tbody>\n",
       "    <tr>\n",
       "      <th>1307</th>\n",
       "      <td>32</td>\n",
       "      <td>male</td>\n",
       "      <td>29.2448</td>\n",
       "      <td>4</td>\n",
       "      <td>yes</td>\n",
       "      <td>northwest</td>\n",
       "      <td>20828.304436</td>\n",
       "    </tr>\n",
       "    <tr>\n",
       "      <th>654</th>\n",
       "      <td>59</td>\n",
       "      <td>female</td>\n",
       "      <td>36.6080</td>\n",
       "      <td>0</td>\n",
       "      <td>no</td>\n",
       "      <td>southeast</td>\n",
       "      <td>11877.195070</td>\n",
       "    </tr>\n",
       "    <tr>\n",
       "      <th>1169</th>\n",
       "      <td>37</td>\n",
       "      <td>female</td>\n",
       "      <td>35.4692</td>\n",
       "      <td>1</td>\n",
       "      <td>no</td>\n",
       "      <td>northwest</td>\n",
       "      <td>5928.982362</td>\n",
       "    </tr>\n",
       "    <tr>\n",
       "      <th>570</th>\n",
       "      <td>31</td>\n",
       "      <td>female</td>\n",
       "      <td>30.2640</td>\n",
       "      <td>0</td>\n",
       "      <td>no</td>\n",
       "      <td>southwest</td>\n",
       "      <td>3648.453240</td>\n",
       "    </tr>\n",
       "    <tr>\n",
       "      <th>633</th>\n",
       "      <td>40</td>\n",
       "      <td>male</td>\n",
       "      <td>23.6132</td>\n",
       "      <td>2</td>\n",
       "      <td>no</td>\n",
       "      <td>northeast</td>\n",
       "      <td>6958.159152</td>\n",
       "    </tr>\n",
       "  </tbody>\n",
       "</table>\n",
       "</div>"
      ],
      "text/plain": [
       "      age     sex      bmi  children smoker     region       charges\n",
       "1307   32    male  29.2448         4    yes  northwest  20828.304436\n",
       "654    59  female  36.6080         0     no  southeast  11877.195070\n",
       "1169   37  female  35.4692         1     no  northwest   5928.982362\n",
       "570    31  female  30.2640         0     no  southwest   3648.453240\n",
       "633    40    male  23.6132         2     no  northeast   6958.159152"
      ]
     },
     "execution_count": 208,
     "metadata": {},
     "output_type": "execute_result"
    }
   ],
   "source": [
    "dataframe = customize_dataset(dataframe_raw, your_name)\n",
    "dataframe.head()"
   ]
  },
  {
   "cell_type": "markdown",
   "metadata": {},
   "source": [
    "Let us answer some basic questions about the dataset. \n",
    "\n",
    "\n",
    "**Q: How many rows does the dataset have?**"
   ]
  },
  {
   "cell_type": "code",
   "execution_count": 209,
   "metadata": {},
   "outputs": [
    {
     "name": "stdout",
     "output_type": "stream",
     "text": [
      "1271\n"
     ]
    }
   ],
   "source": [
    "num_rows = dataframe.shape[0]\n",
    "print(num_rows)"
   ]
  },
  {
   "cell_type": "markdown",
   "metadata": {},
   "source": [
    "**Q: How many columns doe the dataset have**"
   ]
  },
  {
   "cell_type": "code",
   "execution_count": 210,
   "metadata": {},
   "outputs": [
    {
     "name": "stdout",
     "output_type": "stream",
     "text": [
      "7\n"
     ]
    }
   ],
   "source": [
    "num_cols = dataframe.shape[1]\n",
    "print(num_cols)"
   ]
  },
  {
   "cell_type": "markdown",
   "metadata": {},
   "source": [
    "**Q: What are the column titles of the input variables?**"
   ]
  },
  {
   "cell_type": "code",
   "execution_count": 211,
   "metadata": {},
   "outputs": [
    {
     "data": {
      "text/plain": [
       "['age', 'sex', 'bmi', 'children', 'smoker', 'region']"
      ]
     },
     "execution_count": 211,
     "metadata": {},
     "output_type": "execute_result"
    }
   ],
   "source": [
    "input_cols = [col for col in dataframe.columns]\n",
    "input_cols.remove('charges') # this is our target variable\n",
    "input_cols"
   ]
  },
  {
   "cell_type": "markdown",
   "metadata": {},
   "source": [
    "**Q: Which of the input columns are non-numeric or categorial variables ?**\n",
    "\n",
    "Hint: `sex` is one of them. List the columns that are not numbers."
   ]
  },
  {
   "cell_type": "code",
   "execution_count": 212,
   "metadata": {},
   "outputs": [
    {
     "data": {
      "text/plain": [
       "['sex', 'smoker', 'region']"
      ]
     },
     "execution_count": 212,
     "metadata": {},
     "output_type": "execute_result"
    }
   ],
   "source": [
    "categorical_cols = [col for col in dataframe.select_dtypes(exclude=['number']).columns]\n",
    "categorical_cols"
   ]
  },
  {
   "cell_type": "markdown",
   "metadata": {},
   "source": [
    "**Q: What are the column titles of output/target variable(s)?**"
   ]
  },
  {
   "cell_type": "code",
   "execution_count": 213,
   "metadata": {},
   "outputs": [
    {
     "data": {
      "text/plain": [
       "['charges']"
      ]
     },
     "execution_count": 213,
     "metadata": {},
     "output_type": "execute_result"
    }
   ],
   "source": [
    "output_cols = ['charges']\n",
    "output_cols"
   ]
  },
  {
   "cell_type": "markdown",
   "metadata": {},
   "source": [
    "**Q: (Optional) What is the minimum, maximum and average value of the `charges` column? Can you show the distribution of values in a graph?**\n",
    "Use this data visualization cheatsheet for referece: https://jovian.ml/aakashns/dataviz-cheatsheet"
   ]
  },
  {
   "cell_type": "code",
   "execution_count": 214,
   "metadata": {},
   "outputs": [
    {
     "name": "stdout",
     "output_type": "stream",
     "text": [
      "Minimum Charge: 1088.217683, Maximum Charge: 61857.3151697, Average Charge: 12940.839596369733\n"
     ]
    },
    {
     "data": {
      "image/png": "[encoded data removed]",
      "text/plain": [
       "<Figure size 432x288 with 1 Axes>"
      ]
     },
     "metadata": {
      "needs_background": "light"
     },
     "output_type": "display_data"
    }
   ],
   "source": [
    "minimum, maximum, average = dataframe.charges.min(), dataframe.charges.max(), dataframe.charges.mean()\n",
    "print('Minimum Charge: {}, Maximum Charge: {}, Average Charge: {}'.format(minimum, maximum, average))\n",
    "\n",
    "sexes = dataframe.sex.unique()\n",
    "plt.hist([dataframe.loc[dataframe.sex == sex, 'charges'] for sex in sexes], bins=10, label=sexes, stacked=True, edgecolor='black')\n",
    "plt.title('Charges of Beneficiaries')\n",
    "plt.xlabel('Charges')\n",
    "plt.ylabel('Total Beneficiaries')\n",
    "plt.tight_layout()\n",
    "plt.legend();"
   ]
  },
  {
   "cell_type": "markdown",
   "metadata": {},
   "source": [
    "Remember to commit your notebook to Jovian after every step, so that you don't lose your work."
   ]
  },
  {
   "cell_type": "code",
   "execution_count": 215,
   "metadata": {},
   "outputs": [
    {
     "data": {
      "application/javascript": [
       "window.require && require([\"base/js/namespace\"],function(Jupyter){Jupyter.notebook.save_checkpoint()})"
      ],
      "text/plain": [
       "<IPython.core.display.Javascript object>"
      ]
     },
     "metadata": {},
     "output_type": "display_data"
    },
    {
     "name": "stdout",
     "output_type": "stream",
     "text": [
      "[jovian] Attempting to save notebook..\u001b[0m\n",
      "[jovian] Updating notebook \"khalilhijazi/02-insurance-linear-regression\" on https://jovian.ml/\u001b[0m\n",
      "[jovian] Uploading notebook..\u001b[0m\n",
      "[jovian] Committed successfully! https://jovian.ml/khalilhijazi/02-insurance-linear-regression\u001b[0m\n"
     ]
    },
    {
     "data": {
      "text/plain": [
       "'https://jovian.ml/khalilhijazi/02-insurance-linear-regression'"
      ]
     },
     "execution_count": 215,
     "metadata": {},
     "output_type": "execute_result"
    }
   ],
   "source": [
    "jovian.commit(project=project_name, environment=None)"
   ]
  },
  {
   "cell_type": "markdown",
   "metadata": {},
   "source": [
    "## Step 2: Prepare the dataset for training\n",
    "\n",
    "We need to convert the data from the Pandas dataframe into a PyTorch tensors for training. To do this, the first step is to convert it numpy arrays. If you've filled out `input_cols`, `categorial_cols` and `output_cols` correctly, this following function will perform the conversion to numpy arrays."
   ]
  },
  {
   "cell_type": "code",
   "execution_count": 216,
   "metadata": {},
   "outputs": [],
   "source": [
    "def dataframe_to_arrays(dataframe):\n",
    "    # Make a copy of the original dataframe\n",
    "    dataframe1 = dataframe.copy(deep=True)\n",
    "    # Convert non-numeric categorical columns to numbers\n",
    "    for col in categorical_cols:\n",
    "        dataframe1[col] = dataframe1[col].astype('category').cat.codes\n",
    "    # Extract input & outupts as numpy arrays\n",
    "    inputs_array = dataframe1[input_cols].to_numpy()\n",
    "    targets_array = dataframe1[output_cols].to_numpy()\n",
    "    return inputs_array, targets_array"
   ]
  },
  {
   "cell_type": "markdown",
   "metadata": {},
   "source": [
    "Read through the [Pandas documentation](https://pandas.pydata.org/pandas-docs/stable/user_guide/categorical.html) to understand how we're converting categorical variables into numbers."
   ]
  },
  {
   "cell_type": "code",
   "execution_count": 217,
   "metadata": {},
   "outputs": [
    {
     "data": {
      "text/plain": [
       "(array([[32.    ,  1.    , 29.2448,  4.    ,  1.    ,  1.    ],\n",
       "        [59.    ,  0.    , 36.608 ,  0.    ,  0.    ,  2.    ],\n",
       "        [37.    ,  0.    , 35.4692,  1.    ,  0.    ,  1.    ],\n",
       "        ...,\n",
       "        [57.    ,  0.    , 20.904 ,  1.    ,  0.    ,  3.    ],\n",
       "        [23.    ,  1.    , 35.776 ,  0.    ,  0.    ,  3.    ],\n",
       "        [57.    ,  0.    , 24.9392,  1.    ,  0.    ,  2.    ]]),\n",
       " array([[20828.304436 ],\n",
       "        [11877.19507  ],\n",
       "        [ 5928.9823615],\n",
       "        ...,\n",
       "        [11671.35622  ],\n",
       "        [ 1772.03771  ],\n",
       "        [21526.6639967]]))"
      ]
     },
     "execution_count": 217,
     "metadata": {},
     "output_type": "execute_result"
    }
   ],
   "source": [
    "inputs_array, targets_array = dataframe_to_arrays(dataframe)\n",
    "inputs_array, targets_array"
   ]
  },
  {
   "cell_type": "markdown",
   "metadata": {},
   "source": [
    "**Q: Convert the numpy arrays `inputs_array` and `targets_array` into PyTorch tensors. Make sure that the data type is `torch.float32`.**"
   ]
  },
  {
   "cell_type": "code",
   "execution_count": 218,
   "metadata": {},
   "outputs": [],
   "source": [
    "inputs = torch.from_numpy(inputs_array).type(torch.float32)\n",
    "targets = torch.from_numpy(targets_array).type(torch.float32)"
   ]
  },
  {
   "cell_type": "code",
   "execution_count": 219,
   "metadata": {},
   "outputs": [
    {
     "data": {
      "text/plain": [
       "(torch.float32, torch.float32)"
      ]
     },
     "execution_count": 219,
     "metadata": {},
     "output_type": "execute_result"
    }
   ],
   "source": [
    "inputs.dtype, targets.dtype"
   ]
  },
  {
   "cell_type": "markdown",
   "metadata": {},
   "source": [
    "Next, we need to create PyTorch datasets & data loaders for training & validation. We'll start by creating a `TensorDataset`."
   ]
  },
  {
   "cell_type": "code",
   "execution_count": 220,
   "metadata": {},
   "outputs": [],
   "source": [
    "dataset = TensorDataset(inputs, targets)"
   ]
  },
  {
   "cell_type": "markdown",
   "metadata": {},
   "source": [
    "**Q: Pick a number between `0.1` and `0.2` to determine the fraction of data that will be used for creating the validation set. Then use `random_split` to create training & validation datasets. **"
   ]
  },
  {
   "cell_type": "code",
   "execution_count": 221,
   "metadata": {},
   "outputs": [],
   "source": [
    "val_percent = 0.15 # between 0.1 and 0.2\n",
    "val_size = int(num_rows * val_percent)\n",
    "train_size = num_rows - val_size\n",
    "\n",
    "\n",
    "train_ds, val_ds = random_split(dataset, [train_size, val_size]) # Use the random_split function to split dataset into 2 parts of the desired length"
   ]
  },
  {
   "cell_type": "markdown",
   "metadata": {},
   "source": [
    "Finally, we can create data loaders for training & validation.\n",
    "\n",
    "**Q: Pick a batch size for the data loader.**"
   ]
  },
  {
   "cell_type": "code",
   "execution_count": 222,
   "metadata": {},
   "outputs": [],
   "source": [
    "batch_size = 32"
   ]
  },
  {
   "cell_type": "code",
   "execution_count": 223,
   "metadata": {},
   "outputs": [],
   "source": [
    "train_loader = DataLoader(train_ds, batch_size, shuffle=True)\n",
    "val_loader = DataLoader(val_ds, batch_size)"
   ]
  },
  {
   "cell_type": "markdown",
   "metadata": {},
   "source": [
    "Let's look at a batch of data to verify everything is working fine so far."
   ]
  },
  {
   "cell_type": "code",
   "execution_count": 224,
   "metadata": {},
   "outputs": [
    {
     "name": "stdout",
     "output_type": "stream",
     "text": [
      "inputs: tensor([[62.0000,  0.0000, 32.9992,  0.0000,  0.0000,  0.0000],\n",
      "        [49.0000,  1.0000, 32.6040,  1.0000,  0.0000,  0.0000],\n",
      "        [42.0000,  0.0000, 34.4812,  1.0000,  0.0000,  0.0000],\n",
      "        [44.0000,  0.0000, 26.0000,  1.0000,  0.0000,  3.0000],\n",
      "        [19.0000,  0.0000, 42.1200,  0.0000,  0.0000,  3.0000],\n",
      "        [32.0000,  0.0000, 38.6308,  3.0000,  0.0000,  0.0000],\n",
      "        [52.0000,  1.0000, 34.5800,  0.0000,  0.0000,  0.0000],\n",
      "        [46.0000,  0.0000, 20.7480,  2.0000,  0.0000,  1.0000],\n",
      "        [54.0000,  1.0000, 32.0320,  1.0000,  1.0000,  2.0000],\n",
      "        [23.0000,  0.0000, 32.6560,  0.0000,  1.0000,  3.0000],\n",
      "        [47.0000,  0.0000, 28.9432,  0.0000,  1.0000,  2.0000],\n",
      "        [21.0000,  0.0000, 37.1488,  0.0000,  0.0000,  1.0000],\n",
      "        [24.0000,  1.0000, 26.8320,  0.0000,  0.0000,  3.0000],\n",
      "        [19.0000,  1.0000, 21.2420,  0.0000,  0.0000,  1.0000],\n",
      "        [30.0000,  0.0000, 34.6632,  1.0000,  0.0000,  2.0000],\n",
      "        [64.0000,  1.0000, 39.4212,  0.0000,  0.0000,  1.0000],\n",
      "        [63.0000,  0.0000, 26.0832,  0.0000,  0.0000,  1.0000],\n",
      "        [22.0000,  1.0000, 36.1920,  3.0000,  0.0000,  3.0000],\n",
      "        [30.0000,  0.0000, 28.8080,  0.0000,  0.0000,  3.0000],\n",
      "        [22.0000,  1.0000, 20.7480,  3.0000,  0.0000,  0.0000],\n",
      "        [36.0000,  1.0000, 32.7600,  0.0000,  0.0000,  3.0000],\n",
      "        [31.0000,  0.0000, 27.6848,  0.0000,  0.0000,  2.0000],\n",
      "        [19.0000,  0.0000, 29.0472,  3.0000,  0.0000,  1.0000],\n",
      "        [57.0000,  1.0000, 34.9752,  1.0000,  0.0000,  1.0000],\n",
      "        [21.0000,  1.0000, 24.7000,  2.0000,  0.0000,  1.0000],\n",
      "        [38.0000,  0.0000, 39.2392,  0.0000,  0.0000,  2.0000],\n",
      "        [22.0000,  1.0000, 29.4424,  1.0000,  0.0000,  1.0000],\n",
      "        [22.0000,  1.0000, 41.0800,  0.0000,  0.0000,  3.0000],\n",
      "        [39.0000,  0.0000, 33.1968,  2.0000,  0.0000,  1.0000],\n",
      "        [53.0000,  1.0000, 29.7440,  3.0000,  0.0000,  3.0000],\n",
      "        [58.0000,  1.0000, 51.0224,  0.0000,  0.0000,  2.0000],\n",
      "        [46.0000,  1.0000, 25.7868,  3.0000,  0.0000,  0.0000]])\n",
      "targets: tensor([[13622.1729],\n",
      "        [ 9011.4355],\n",
      "        [ 7410.2349],\n",
      "        [ 7394.8125],\n",
      "        [ 1706.5579],\n",
      "        [ 6144.3135],\n",
      "        [ 9431.0859],\n",
      "        [ 8918.0234],\n",
      "        [40739.5352],\n",
      "        [33141.2852],\n",
      "        [22373.4590],\n",
      "        [ 2332.5918],\n",
      "        [ 1913.7615],\n",
      "        [ 1576.6708],\n",
      "        [ 4026.4978],\n",
      "        [13784.2197],\n",
      "        [13826.9697],\n",
      "        [ 3339.7720],\n",
      "        [ 3447.5769],\n",
      "        [ 3885.2598],\n",
      "        [ 4270.1660],\n",
      "        [ 3645.1094],\n",
      "        [18273.5430],\n",
      "        [11586.7783],\n",
      "        [ 2984.7827],\n",
      "        [ 5235.6880],\n",
      "        [ 2559.8716],\n",
      "        [ 1632.1191],\n",
      "        [ 6993.2070],\n",
      "        [10915.8184],\n",
      "        [11039.8857],\n",
      "        [ 9215.5557]])\n"
     ]
    }
   ],
   "source": [
    "for xb, yb in train_loader:\n",
    "    print(\"inputs:\", xb)\n",
    "    print(\"targets:\", yb)\n",
    "    break"
   ]
  },
  {
   "cell_type": "markdown",
   "metadata": {},
   "source": [
    "Let's save our work by committing to Jovian."
   ]
  },
  {
   "cell_type": "code",
   "execution_count": 225,
   "metadata": {},
   "outputs": [
    {
     "data": {
      "application/javascript": [
       "window.require && require([\"base/js/namespace\"],function(Jupyter){Jupyter.notebook.save_checkpoint()})"
      ],
      "text/plain": [
       "<IPython.core.display.Javascript object>"
      ]
     },
     "metadata": {},
     "output_type": "display_data"
    },
    {
     "name": "stdout",
     "output_type": "stream",
     "text": [
      "[jovian] Attempting to save notebook..\u001b[0m\n",
      "[jovian] Updating notebook \"khalilhijazi/02-insurance-linear-regression\" on https://jovian.ml/\u001b[0m\n",
      "[jovian] Uploading notebook..\u001b[0m\n",
      "[jovian] Committed successfully! https://jovian.ml/khalilhijazi/02-insurance-linear-regression\u001b[0m\n"
     ]
    },
    {
     "data": {
      "text/plain": [
       "'https://jovian.ml/khalilhijazi/02-insurance-linear-regression'"
      ]
     },
     "execution_count": 225,
     "metadata": {},
     "output_type": "execute_result"
    }
   ],
   "source": [
    "jovian.commit(project=project_name, environment=None)"
   ]
  },
  {
   "cell_type": "markdown",
   "metadata": {},
   "source": [
    "## Step 3: Create a Linear Regression Model\n",
    "\n",
    "Our model itself is a fairly straightforward linear regression (we'll build more complex models in the next assignment). \n"
   ]
  },
  {
   "cell_type": "code",
   "execution_count": 226,
   "metadata": {},
   "outputs": [],
   "source": [
    "input_size = len(input_cols)\n",
    "output_size = len(output_cols)"
   ]
  },
  {
   "cell_type": "markdown",
   "metadata": {},
   "source": [
    "**Q: Complete the class definition below by filling out the constructor (`__init__`), `forward`, `training_step` and `validation_step` methods.**\n",
    "\n",
    "Hint: Think carefully about picking a good loss fuction (it's not cross entropy). Maybe try 2-3 of them and see which one works best. See https://pytorch.org/docs/stable/nn.functional.html#loss-functions"
   ]
  },
  {
   "cell_type": "code",
   "execution_count": 227,
   "metadata": {},
   "outputs": [],
   "source": [
    "class InsuranceModel(nn.Module):\n",
    "    def __init__(self):\n",
    "        super().__init__()\n",
    "        self.linear = nn.Linear(input_size, output_size)# fill this (hint: use input_size & output_size defined above)\n",
    "        \n",
    "    def forward(self, xb):\n",
    "        out = self.linear(xb)                          # fill this\n",
    "        return out\n",
    "    \n",
    "    def training_step(self, batch):\n",
    "        inputs, targets = batch \n",
    "        # Generate predictions\n",
    "        out = self(inputs)          \n",
    "        # Calcuate loss\n",
    "        loss = F.l1_loss(out, targets)                      # fill this\n",
    "        return loss\n",
    "    \n",
    "    def validation_step(self, batch):\n",
    "        inputs, targets = batch\n",
    "        # Generate predictions\n",
    "        out = self(inputs)\n",
    "        # Calculate loss\n",
    "        loss = F.l1_loss(out, targets)                  # fill this    \n",
    "        return {'val_loss': loss.detach()}\n",
    "        \n",
    "    def validation_epoch_end(self, outputs):\n",
    "        batch_losses = [x['val_loss'] for x in outputs]\n",
    "        epoch_loss = torch.stack(batch_losses).mean()   # Combine losses\n",
    "        return {'val_loss': epoch_loss.item()}\n",
    "    \n",
    "    def epoch_end(self, epoch, result, num_epochs):\n",
    "        # Print result every 20th epoch\n",
    "        if (epoch+1) % 20 == 0 or epoch == num_epochs-1:\n",
    "            print(\"Epoch [{}], val_loss: {:.4f}\".format(epoch+1, result['val_loss']))"
   ]
  },
  {
   "cell_type": "markdown",
   "metadata": {},
   "source": [
    "Let us create a model using the `InsuranceModel` class. You may need to come back later and re-run the next cell to reinitialize the model, in case the loss becomes `nan` or `infinity`."
   ]
  },
  {
   "cell_type": "code",
   "execution_count": 235,
   "metadata": {},
   "outputs": [],
   "source": [
    "model = InsuranceModel()"
   ]
  },
  {
   "cell_type": "markdown",
   "metadata": {},
   "source": [
    "Let's check out the weights and biases of the model using `model.parameters`."
   ]
  },
  {
   "cell_type": "code",
   "execution_count": 236,
   "metadata": {},
   "outputs": [
    {
     "data": {
      "text/plain": [
       "[Parameter containing:\n",
       " tensor([[ 0.1954,  0.2390,  0.3128,  0.0618, -0.2986, -0.3474]],\n",
       "        requires_grad=True),\n",
       " Parameter containing:\n",
       " tensor([-0.0227], requires_grad=True)]"
      ]
     },
     "execution_count": 236,
     "metadata": {},
     "output_type": "execute_result"
    }
   ],
   "source": [
    "list(model.parameters())"
   ]
  },
  {
   "cell_type": "markdown",
   "metadata": {},
   "source": [
    "One final commit before we train the model."
   ]
  },
  {
   "cell_type": "code",
   "execution_count": 237,
   "metadata": {},
   "outputs": [
    {
     "data": {
      "application/javascript": [
       "window.require && require([\"base/js/namespace\"],function(Jupyter){Jupyter.notebook.save_checkpoint()})"
      ],
      "text/plain": [
       "<IPython.core.display.Javascript object>"
      ]
     },
     "metadata": {},
     "output_type": "display_data"
    },
    {
     "name": "stdout",
     "output_type": "stream",
     "text": [
      "[jovian] Attempting to save notebook..\u001b[0m\n",
      "[jovian] Updating notebook \"khalilhijazi/02-insurance-linear-regression\" on https://jovian.ml/\u001b[0m\n",
      "[jovian] Uploading notebook..\u001b[0m\n",
      "[jovian] Committed successfully! https://jovian.ml/khalilhijazi/02-insurance-linear-regression\u001b[0m\n"
     ]
    },
    {
     "data": {
      "text/plain": [
       "'https://jovian.ml/khalilhijazi/02-insurance-linear-regression'"
      ]
     },
     "execution_count": 237,
     "metadata": {},
     "output_type": "execute_result"
    }
   ],
   "source": [
    "jovian.commit(project=project_name, environment=None)"
   ]
  },
  {
   "cell_type": "markdown",
   "metadata": {},
   "source": [
    "## Step 4: Train the model to fit the data\n",
    "\n",
    "To train our model, we'll use the same `fit` function explained in the lecture. That's the benefit of defining a generic training loop - you can use it for any problem."
   ]
  },
  {
   "cell_type": "code",
   "execution_count": 238,
   "metadata": {},
   "outputs": [],
   "source": [
    "def evaluate(model, val_loader):\n",
    "    outputs = [model.validation_step(batch) for batch in val_loader]\n",
    "    return model.validation_epoch_end(outputs)\n",
    "\n",
    "def fit(epochs, lr, model, train_loader, val_loader, opt_func=torch.optim.SGD):\n",
    "    history = []\n",
    "    optimizer = opt_func(model.parameters(), lr)\n",
    "    for epoch in range(epochs):\n",
    "        # Training Phase \n",
    "        for batch in train_loader:\n",
    "            loss = model.training_step(batch)\n",
    "            loss.backward()\n",
    "            optimizer.step()\n",
    "            optimizer.zero_grad()\n",
    "        # Validation phase\n",
    "        result = evaluate(model, val_loader)\n",
    "        model.epoch_end(epoch, result, epochs)\n",
    "        history.append(result)\n",
    "    return history"
   ]
  },
  {
   "cell_type": "markdown",
   "metadata": {},
   "source": [
    "**Q: Use the `evaluate` function to calculate the loss on the validation set before training.**"
   ]
  },
  {
   "cell_type": "code",
   "execution_count": 239,
   "metadata": {},
   "outputs": [
    {
     "name": "stdout",
     "output_type": "stream",
     "text": [
      "{'val_loss': 10932.6826171875}\n"
     ]
    }
   ],
   "source": [
    "result = evaluate(model, val_loader) # Use the the evaluate function\n",
    "print(result)"
   ]
  },
  {
   "cell_type": "markdown",
   "metadata": {},
   "source": [
    "\n",
    "We are now ready to train the model. You may need to run the training loop many times, for different number of epochs and with different learning rates, to get a good result. Also, if your loss becomes too large (or `nan`), you may have to re-initialize the model by running the cell `model = InsuranceModel()`. Experiment with this for a while, and try to get to as low a loss as possible."
   ]
  },
  {
   "cell_type": "markdown",
   "metadata": {},
   "source": [
    "**Q: Train the model 4-5 times with different learning rates & for different number of epochs.**\n",
    "\n",
    "Hint: Vary learning rates by orders of 10 (e.g. `1e-2`, `1e-3`, `1e-4`, `1e-5`, `1e-6`) to figure out what works."
   ]
  },
  {
   "cell_type": "code",
   "execution_count": 240,
   "metadata": {},
   "outputs": [
    {
     "name": "stdout",
     "output_type": "stream",
     "text": [
      "Epoch [20], val_loss: 4903.0171\n",
      "Epoch [40], val_loss: 5182.3467\n",
      "Epoch [60], val_loss: 4638.9751\n",
      "Epoch [80], val_loss: 4713.4561\n",
      "Epoch [100], val_loss: 4602.9106\n",
      "Epoch [120], val_loss: 4580.6909\n",
      "Epoch [140], val_loss: 4552.3911\n",
      "Epoch [160], val_loss: 4561.6416\n",
      "Epoch [180], val_loss: 4698.3638\n",
      "Epoch [200], val_loss: 4467.4761\n",
      "Epoch [220], val_loss: 4833.0435\n",
      "Epoch [240], val_loss: 4438.5952\n",
      "Epoch [260], val_loss: 4748.7617\n",
      "Epoch [280], val_loss: 4638.8521\n",
      "Epoch [300], val_loss: 4710.0298\n",
      "Epoch [320], val_loss: 4339.9502\n",
      "Epoch [340], val_loss: 4440.2085\n",
      "Epoch [360], val_loss: 4287.2085\n",
      "Epoch [380], val_loss: 4857.0620\n",
      "Epoch [400], val_loss: 4370.0093\n",
      "Epoch [420], val_loss: 4626.7236\n",
      "Epoch [440], val_loss: 4595.0010\n",
      "Epoch [460], val_loss: 4560.5034\n",
      "Epoch [480], val_loss: 4156.2695\n",
      "Epoch [500], val_loss: 4275.4282\n",
      "Epoch [520], val_loss: 4107.1440\n",
      "Epoch [540], val_loss: 4266.3560\n",
      "Epoch [560], val_loss: 4070.9880\n",
      "Epoch [580], val_loss: 4413.8442\n",
      "Epoch [600], val_loss: 4029.0330\n",
      "Epoch [620], val_loss: 4090.6116\n",
      "Epoch [640], val_loss: 4608.7646\n",
      "Epoch [660], val_loss: 3946.8789\n",
      "Epoch [680], val_loss: 4190.3784\n",
      "Epoch [700], val_loss: 4272.9434\n",
      "Epoch [720], val_loss: 4098.2856\n",
      "Epoch [740], val_loss: 3903.5789\n",
      "Epoch [760], val_loss: 4103.0894\n",
      "Epoch [780], val_loss: 3856.7854\n",
      "Epoch [800], val_loss: 3850.7019\n",
      "Epoch [820], val_loss: 3853.4387\n",
      "Epoch [840], val_loss: 3866.5164\n",
      "Epoch [860], val_loss: 3915.3572\n",
      "Epoch [880], val_loss: 3781.9980\n",
      "Epoch [900], val_loss: 3692.4949\n",
      "Epoch [920], val_loss: 3669.9854\n",
      "Epoch [940], val_loss: 3727.8604\n",
      "Epoch [960], val_loss: 3883.6448\n",
      "Epoch [980], val_loss: 3626.5498\n",
      "Epoch [1000], val_loss: 3632.4531\n",
      "Epoch [1020], val_loss: 3631.7910\n",
      "Epoch [1040], val_loss: 3539.3418\n",
      "Epoch [1060], val_loss: 3550.4216\n",
      "Epoch [1080], val_loss: 3858.4373\n",
      "Epoch [1100], val_loss: 3654.3918\n",
      "Epoch [1120], val_loss: 3473.5654\n",
      "Epoch [1140], val_loss: 3527.0007\n",
      "Epoch [1160], val_loss: 3908.4758\n",
      "Epoch [1180], val_loss: 3573.8000\n",
      "Epoch [1200], val_loss: 3374.0999\n",
      "Epoch [1220], val_loss: 3543.4182\n",
      "Epoch [1240], val_loss: 3355.2937\n",
      "Epoch [1260], val_loss: 3351.9153\n",
      "Epoch [1280], val_loss: 3286.4983\n",
      "Epoch [1300], val_loss: 3423.5393\n",
      "Epoch [1320], val_loss: 3257.6599\n",
      "Epoch [1340], val_loss: 3294.3147\n",
      "Epoch [1360], val_loss: 3391.9805\n",
      "Epoch [1380], val_loss: 3314.3342\n",
      "Epoch [1400], val_loss: 3172.8284\n",
      "Epoch [1420], val_loss: 3248.3467\n",
      "Epoch [1440], val_loss: 3177.0938\n",
      "Epoch [1460], val_loss: 3123.6047\n",
      "Epoch [1480], val_loss: 3359.5154\n",
      "Epoch [1500], val_loss: 3507.5938\n",
      "Epoch [1520], val_loss: 3548.7395\n",
      "Epoch [1540], val_loss: 3071.8301\n",
      "Epoch [1560], val_loss: 3113.3223\n",
      "Epoch [1580], val_loss: 3005.1067\n",
      "Epoch [1600], val_loss: 2996.3328\n",
      "Epoch [1620], val_loss: 3174.0173\n",
      "Epoch [1640], val_loss: 3084.5398\n",
      "Epoch [1660], val_loss: 3406.0645\n",
      "Epoch [1680], val_loss: 3028.4885\n",
      "Epoch [1700], val_loss: 3087.1248\n",
      "Epoch [1720], val_loss: 2950.2129\n",
      "Epoch [1740], val_loss: 3488.8088\n",
      "Epoch [1760], val_loss: 3103.1423\n",
      "Epoch [1780], val_loss: 3066.4363\n",
      "Epoch [1800], val_loss: 2964.5095\n",
      "Epoch [1820], val_loss: 2828.3074\n",
      "Epoch [1840], val_loss: 2951.9434\n",
      "Epoch [1860], val_loss: 2807.8779\n",
      "Epoch [1880], val_loss: 3249.3215\n",
      "Epoch [1900], val_loss: 3092.0332\n",
      "Epoch [1920], val_loss: 2778.3362\n",
      "Epoch [1940], val_loss: 3048.3281\n",
      "Epoch [1960], val_loss: 2982.6438\n",
      "Epoch [1980], val_loss: 3264.8337\n",
      "Epoch [2000], val_loss: 3263.6443\n",
      "Epoch [2020], val_loss: 2756.8606\n",
      "Epoch [2040], val_loss: 2780.1746\n",
      "Epoch [2060], val_loss: 2893.1951\n",
      "Epoch [2080], val_loss: 2905.5413\n",
      "Epoch [2100], val_loss: 2766.7732\n",
      "Epoch [2120], val_loss: 2698.8806\n",
      "Epoch [2140], val_loss: 2693.4451\n",
      "Epoch [2160], val_loss: 3002.1331\n",
      "Epoch [2180], val_loss: 2678.8147\n",
      "Epoch [2200], val_loss: 2674.1685\n",
      "Epoch [2220], val_loss: 2702.2891\n",
      "Epoch [2240], val_loss: 2680.3308\n",
      "Epoch [2260], val_loss: 3436.5510\n",
      "Epoch [2280], val_loss: 3096.5176\n",
      "Epoch [2300], val_loss: 2723.7312\n",
      "Epoch [2320], val_loss: 2708.2268\n",
      "Epoch [2340], val_loss: 2775.0554\n",
      "Epoch [2360], val_loss: 3030.8582\n",
      "Epoch [2380], val_loss: 2997.5159\n",
      "Epoch [2400], val_loss: 2863.1770\n",
      "Epoch [2420], val_loss: 2672.2224\n",
      "Epoch [2440], val_loss: 3332.1575\n",
      "Epoch [2460], val_loss: 3011.3103\n",
      "Epoch [2480], val_loss: 2677.7004\n",
      "Epoch [2500], val_loss: 2718.0291\n",
      "Epoch [2520], val_loss: 2631.4744\n",
      "Epoch [2540], val_loss: 2852.1279\n",
      "Epoch [2560], val_loss: 3042.8611\n",
      "Epoch [2580], val_loss: 2616.8662\n",
      "Epoch [2600], val_loss: 2619.7356\n",
      "Epoch [2620], val_loss: 2702.9641\n",
      "Epoch [2640], val_loss: 2697.6025\n",
      "Epoch [2660], val_loss: 3002.6943\n",
      "Epoch [2680], val_loss: 2666.7419\n",
      "Epoch [2700], val_loss: 2822.8108\n",
      "Epoch [2720], val_loss: 2754.8391\n",
      "Epoch [2740], val_loss: 2710.3962\n",
      "Epoch [2760], val_loss: 2612.6582\n",
      "Epoch [2780], val_loss: 2916.0557\n",
      "Epoch [2800], val_loss: 2911.6504\n",
      "Epoch [2820], val_loss: 3384.0681\n",
      "Epoch [2840], val_loss: 2969.1719\n",
      "Epoch [2860], val_loss: 2597.9890\n",
      "Epoch [2880], val_loss: 2608.4421\n",
      "Epoch [2900], val_loss: 3146.6023\n",
      "Epoch [2920], val_loss: 3253.3213\n",
      "Epoch [2940], val_loss: 2618.2932\n",
      "Epoch [2960], val_loss: 2682.6809\n",
      "Epoch [2980], val_loss: 2995.2024\n",
      "Epoch [3000], val_loss: 2603.3052\n",
      "Epoch [3020], val_loss: 3265.9001\n",
      "Epoch [3040], val_loss: 2718.1453\n",
      "Epoch [3060], val_loss: 2616.1438\n",
      "Epoch [3080], val_loss: 2602.1270\n",
      "Epoch [3100], val_loss: 2628.8977\n",
      "Epoch [3120], val_loss: 3199.9202\n",
      "Epoch [3140], val_loss: 2704.2317\n",
      "Epoch [3160], val_loss: 3016.3538\n",
      "Epoch [3180], val_loss: 3033.2363\n",
      "Epoch [3200], val_loss: 2891.1477\n",
      "Epoch [3220], val_loss: 2955.3059\n",
      "Epoch [3240], val_loss: 2696.6179\n",
      "Epoch [3260], val_loss: 3018.8503\n",
      "Epoch [3280], val_loss: 2593.4978\n",
      "Epoch [3300], val_loss: 2615.2883\n",
      "Epoch [3320], val_loss: 2637.4094\n",
      "Epoch [3340], val_loss: 2682.2258\n",
      "Epoch [3360], val_loss: 2614.8330\n",
      "Epoch [3380], val_loss: 2592.7029\n",
      "Epoch [3400], val_loss: 2684.1008\n",
      "Epoch [3420], val_loss: 2679.0120\n",
      "Epoch [3440], val_loss: 2810.1912\n",
      "Epoch [3460], val_loss: 2608.3799\n",
      "Epoch [3480], val_loss: 2706.7246\n",
      "Epoch [3500], val_loss: 2879.0071\n",
      "Epoch [3520], val_loss: 2609.9807\n",
      "Epoch [3540], val_loss: 2800.1357\n",
      "Epoch [3560], val_loss: 2824.3762\n",
      "Epoch [3580], val_loss: 2681.3538\n",
      "Epoch [3600], val_loss: 2594.0090\n",
      "Epoch [3620], val_loss: 2690.7808\n",
      "Epoch [3640], val_loss: 2612.6042\n",
      "Epoch [3660], val_loss: 3140.0920\n",
      "Epoch [3680], val_loss: 2617.9502\n",
      "Epoch [3700], val_loss: 2983.7727\n",
      "Epoch [3720], val_loss: 2666.6497\n",
      "Epoch [3740], val_loss: 3107.0674\n",
      "Epoch [3760], val_loss: 3040.7117\n",
      "Epoch [3780], val_loss: 2712.0222\n",
      "Epoch [3800], val_loss: 2681.1897\n",
      "Epoch [3820], val_loss: 2767.3152\n",
      "Epoch [3840], val_loss: 2598.6833\n",
      "Epoch [3860], val_loss: 2589.0107\n",
      "Epoch [3880], val_loss: 2796.1992\n",
      "Epoch [3900], val_loss: 3218.0725\n",
      "Epoch [3920], val_loss: 2608.1870\n",
      "Epoch [3940], val_loss: 2646.9614\n",
      "Epoch [3960], val_loss: 3157.9338\n",
      "Epoch [3980], val_loss: 2590.2087\n",
      "Epoch [4000], val_loss: 2710.3572\n",
      "Epoch [4020], val_loss: 3295.7532\n",
      "Epoch [4040], val_loss: 2853.9690\n",
      "Epoch [4060], val_loss: 2621.3748\n",
      "Epoch [4080], val_loss: 2999.0232\n",
      "Epoch [4100], val_loss: 2593.5613\n",
      "Epoch [4120], val_loss: 2621.4568\n",
      "Epoch [4140], val_loss: 2779.8557\n",
      "Epoch [4160], val_loss: 2587.5657\n",
      "Epoch [4180], val_loss: 3237.2607\n",
      "Epoch [4200], val_loss: 2664.8132\n",
      "Epoch [4220], val_loss: 2623.0496\n",
      "Epoch [4240], val_loss: 3443.6660\n",
      "Epoch [4260], val_loss: 2633.4377\n",
      "Epoch [4280], val_loss: 3419.1541\n",
      "Epoch [4300], val_loss: 3147.2070\n",
      "Epoch [4320], val_loss: 2697.3630\n",
      "Epoch [4340], val_loss: 2995.0801\n",
      "Epoch [4360], val_loss: 2931.8206\n",
      "Epoch [4380], val_loss: 2941.7991\n",
      "Epoch [4400], val_loss: 2696.4373\n",
      "Epoch [4420], val_loss: 2620.9922\n",
      "Epoch [4440], val_loss: 2624.4963\n",
      "Epoch [4460], val_loss: 2829.0449\n",
      "Epoch [4480], val_loss: 2603.7766\n",
      "Epoch [4500], val_loss: 2587.2207\n",
      "Epoch [4520], val_loss: 3050.7852\n",
      "Epoch [4540], val_loss: 2591.5125\n",
      "Epoch [4560], val_loss: 2967.9485\n",
      "Epoch [4580], val_loss: 2598.2971\n",
      "Epoch [4600], val_loss: 2624.6907\n",
      "Epoch [4620], val_loss: 2749.5125\n",
      "Epoch [4640], val_loss: 2600.9099\n",
      "Epoch [4660], val_loss: 3224.9993\n",
      "Epoch [4680], val_loss: 2600.2219\n",
      "Epoch [4700], val_loss: 2675.4778\n",
      "Epoch [4720], val_loss: 2600.2942\n",
      "Epoch [4740], val_loss: 2682.1025\n",
      "Epoch [4760], val_loss: 2918.4309\n",
      "Epoch [4780], val_loss: 2912.8252\n",
      "Epoch [4800], val_loss: 2846.6746\n",
      "Epoch [4820], val_loss: 3169.0076\n",
      "Epoch [4840], val_loss: 2657.2556\n",
      "Epoch [4860], val_loss: 2618.0999\n"
     ]
    },
    {
     "name": "stdout",
     "output_type": "stream",
     "text": [
      "Epoch [4880], val_loss: 2651.1726\n",
      "Epoch [4900], val_loss: 2654.7937\n",
      "Epoch [4920], val_loss: 2653.2131\n",
      "Epoch [4940], val_loss: 2617.4629\n",
      "Epoch [4960], val_loss: 2940.6230\n",
      "Epoch [4980], val_loss: 2664.5286\n",
      "Epoch [5000], val_loss: 2673.9734\n",
      "Epoch [5020], val_loss: 2732.5254\n",
      "Epoch [5040], val_loss: 2617.1978\n",
      "Epoch [5060], val_loss: 2657.1094\n",
      "Epoch [5080], val_loss: 2755.2629\n",
      "Epoch [5100], val_loss: 3154.9114\n",
      "Epoch [5120], val_loss: 3045.3450\n",
      "Epoch [5140], val_loss: 2724.3186\n",
      "Epoch [5160], val_loss: 2831.7109\n",
      "Epoch [5180], val_loss: 2618.5334\n",
      "Epoch [5200], val_loss: 2754.2207\n",
      "Epoch [5220], val_loss: 3031.8906\n",
      "Epoch [5240], val_loss: 2611.9607\n",
      "Epoch [5260], val_loss: 3074.2178\n",
      "Epoch [5280], val_loss: 2902.1438\n",
      "Epoch [5300], val_loss: 2688.7854\n",
      "Epoch [5320], val_loss: 2684.8967\n",
      "Epoch [5340], val_loss: 3008.3069\n",
      "Epoch [5360], val_loss: 2865.2395\n",
      "Epoch [5380], val_loss: 2732.9871\n",
      "Epoch [5400], val_loss: 2624.0054\n",
      "Epoch [5420], val_loss: 3109.8711\n",
      "Epoch [5440], val_loss: 2591.3215\n",
      "Epoch [5460], val_loss: 2945.3123\n",
      "Epoch [5480], val_loss: 2968.0491\n",
      "Epoch [5500], val_loss: 2593.9910\n",
      "Epoch [5520], val_loss: 2590.6416\n",
      "Epoch [5540], val_loss: 2591.4961\n",
      "Epoch [5560], val_loss: 3134.7029\n",
      "Epoch [5580], val_loss: 2966.2805\n",
      "Epoch [5600], val_loss: 2599.4194\n",
      "Epoch [5620], val_loss: 2797.5352\n",
      "Epoch [5640], val_loss: 3174.9265\n",
      "Epoch [5660], val_loss: 2845.7917\n",
      "Epoch [5680], val_loss: 2763.2463\n",
      "Epoch [5700], val_loss: 2917.9246\n",
      "Epoch [5720], val_loss: 2743.2363\n",
      "Epoch [5740], val_loss: 2755.7629\n",
      "Epoch [5760], val_loss: 3114.3308\n",
      "Epoch [5780], val_loss: 2589.6736\n",
      "Epoch [5800], val_loss: 2603.6301\n",
      "Epoch [5820], val_loss: 2592.0559\n",
      "Epoch [5840], val_loss: 2946.3503\n",
      "Epoch [5860], val_loss: 2597.5359\n",
      "Epoch [5880], val_loss: 2616.9153\n",
      "Epoch [5900], val_loss: 2640.3738\n",
      "Epoch [5920], val_loss: 2586.8967\n",
      "Epoch [5940], val_loss: 2668.6763\n",
      "Epoch [5960], val_loss: 2996.6194\n",
      "Epoch [5980], val_loss: 2689.1770\n",
      "Epoch [6000], val_loss: 2587.5867\n",
      "Epoch [6020], val_loss: 2977.1589\n",
      "Epoch [6040], val_loss: 2738.7539\n",
      "Epoch [6060], val_loss: 2872.2131\n",
      "Epoch [6080], val_loss: 2592.5344\n",
      "Epoch [6100], val_loss: 3140.3591\n",
      "Epoch [6120], val_loss: 2862.3318\n",
      "Epoch [6140], val_loss: 2594.5571\n",
      "Epoch [6160], val_loss: 2587.4578\n",
      "Epoch [6180], val_loss: 2918.4590\n",
      "Epoch [6200], val_loss: 2768.3425\n",
      "Epoch [6220], val_loss: 2666.0618\n",
      "Epoch [6240], val_loss: 2684.4089\n",
      "Epoch [6260], val_loss: 2591.7795\n",
      "Epoch [6280], val_loss: 2638.6687\n",
      "Epoch [6300], val_loss: 2607.6968\n",
      "Epoch [6320], val_loss: 2798.9270\n",
      "Epoch [6340], val_loss: 2618.3889\n",
      "Epoch [6360], val_loss: 2788.1931\n",
      "Epoch [6380], val_loss: 3062.4082\n",
      "Epoch [6400], val_loss: 2592.0701\n",
      "Epoch [6420], val_loss: 2598.7302\n",
      "Epoch [6440], val_loss: 2617.9636\n",
      "Epoch [6460], val_loss: 2586.3645\n",
      "Epoch [6480], val_loss: 3153.1545\n",
      "Epoch [6500], val_loss: 2677.2681\n",
      "Epoch [6520], val_loss: 3147.4822\n",
      "Epoch [6540], val_loss: 2904.1448\n",
      "Epoch [6560], val_loss: 2869.2942\n",
      "Epoch [6580], val_loss: 3126.7781\n",
      "Epoch [6600], val_loss: 3208.5452\n",
      "Epoch [6620], val_loss: 2775.2031\n",
      "Epoch [6640], val_loss: 2587.1848\n",
      "Epoch [6660], val_loss: 2597.3591\n",
      "Epoch [6680], val_loss: 2915.2480\n",
      "Epoch [6700], val_loss: 2749.9368\n",
      "Epoch [6720], val_loss: 2854.0642\n",
      "Epoch [6740], val_loss: 2968.7903\n",
      "Epoch [6760], val_loss: 2806.7336\n",
      "Epoch [6780], val_loss: 3011.9695\n",
      "Epoch [6800], val_loss: 2647.4924\n",
      "Epoch [6820], val_loss: 2729.8813\n",
      "Epoch [6840], val_loss: 2682.6028\n",
      "Epoch [6860], val_loss: 3525.8489\n",
      "Epoch [6880], val_loss: 2646.7642\n",
      "Epoch [6900], val_loss: 2636.9592\n",
      "Epoch [6920], val_loss: 2797.5010\n",
      "Epoch [6940], val_loss: 2803.5491\n",
      "Epoch [6960], val_loss: 3151.4895\n",
      "Epoch [6980], val_loss: 2867.8057\n",
      "Epoch [7000], val_loss: 2761.7871\n",
      "Epoch [7020], val_loss: 2605.0935\n",
      "Epoch [7040], val_loss: 2819.7058\n",
      "Epoch [7060], val_loss: 3395.9851\n",
      "Epoch [7080], val_loss: 2700.9519\n",
      "Epoch [7100], val_loss: 2912.7493\n",
      "Epoch [7120], val_loss: 2687.3171\n",
      "Epoch [7140], val_loss: 3094.5149\n",
      "Epoch [7160], val_loss: 2646.1248\n",
      "Epoch [7180], val_loss: 2857.8760\n",
      "Epoch [7200], val_loss: 2746.6221\n",
      "Epoch [7220], val_loss: 2659.7190\n",
      "Epoch [7240], val_loss: 2582.9055\n",
      "Epoch [7260], val_loss: 2595.3428\n",
      "Epoch [7280], val_loss: 3021.2952\n",
      "Epoch [7300], val_loss: 2706.2727\n",
      "Epoch [7320], val_loss: 3508.8494\n",
      "Epoch [7340], val_loss: 2588.7466\n",
      "Epoch [7360], val_loss: 2694.5051\n",
      "Epoch [7380], val_loss: 2591.1389\n",
      "Epoch [7400], val_loss: 2589.8015\n",
      "Epoch [7420], val_loss: 2712.9900\n",
      "Epoch [7440], val_loss: 2582.8755\n",
      "Epoch [7460], val_loss: 3021.1458\n",
      "Epoch [7480], val_loss: 2601.9951\n",
      "Epoch [7500], val_loss: 2742.1599\n",
      "Epoch [7520], val_loss: 3225.1082\n",
      "Epoch [7540], val_loss: 2583.8555\n",
      "Epoch [7560], val_loss: 2595.7373\n",
      "Epoch [7580], val_loss: 2673.2356\n",
      "Epoch [7600], val_loss: 2605.7224\n",
      "Epoch [7620], val_loss: 2579.8926\n",
      "Epoch [7640], val_loss: 2900.5618\n",
      "Epoch [7660], val_loss: 2601.5847\n",
      "Epoch [7680], val_loss: 2976.3162\n",
      "Epoch [7700], val_loss: 2672.7295\n",
      "Epoch [7720], val_loss: 2618.7205\n",
      "Epoch [7740], val_loss: 2623.9177\n",
      "Epoch [7760], val_loss: 2925.5901\n",
      "Epoch [7780], val_loss: 3320.5957\n",
      "Epoch [7800], val_loss: 2735.1677\n",
      "Epoch [7820], val_loss: 3162.4492\n",
      "Epoch [7840], val_loss: 2625.7192\n",
      "Epoch [7860], val_loss: 2586.2395\n",
      "Epoch [7880], val_loss: 2873.3293\n",
      "Epoch [7900], val_loss: 3016.6003\n",
      "Epoch [7920], val_loss: 2635.9329\n",
      "Epoch [7940], val_loss: 2629.0898\n",
      "Epoch [7960], val_loss: 2586.7356\n",
      "Epoch [7980], val_loss: 3044.7527\n",
      "Epoch [8000], val_loss: 2626.0085\n",
      "Epoch [8020], val_loss: 2588.1543\n",
      "Epoch [8040], val_loss: 2721.5151\n",
      "Epoch [8060], val_loss: 3461.0996\n",
      "Epoch [8080], val_loss: 2587.8438\n",
      "Epoch [8100], val_loss: 2584.4871\n",
      "Epoch [8120], val_loss: 2877.2158\n",
      "Epoch [8140], val_loss: 3063.9314\n",
      "Epoch [8160], val_loss: 2982.8018\n",
      "Epoch [8180], val_loss: 2583.0061\n",
      "Epoch [8200], val_loss: 3203.0081\n",
      "Epoch [8220], val_loss: 3001.8323\n",
      "Epoch [8240], val_loss: 2595.7429\n",
      "Epoch [8260], val_loss: 3065.4490\n",
      "Epoch [8280], val_loss: 2678.5212\n",
      "Epoch [8300], val_loss: 2996.5276\n",
      "Epoch [8320], val_loss: 2761.0137\n",
      "Epoch [8340], val_loss: 2576.5774\n",
      "Epoch [8360], val_loss: 2588.0830\n",
      "Epoch [8380], val_loss: 2581.9231\n",
      "Epoch [8400], val_loss: 2732.6384\n",
      "Epoch [8420], val_loss: 2617.4226\n",
      "Epoch [8440], val_loss: 2717.1023\n",
      "Epoch [8460], val_loss: 2579.6736\n",
      "Epoch [8480], val_loss: 2612.4604\n",
      "Epoch [8500], val_loss: 2586.1423\n",
      "Epoch [8520], val_loss: 2656.9712\n",
      "Epoch [8540], val_loss: 2692.9255\n",
      "Epoch [8560], val_loss: 2575.5637\n",
      "Epoch [8580], val_loss: 2612.7415\n",
      "Epoch [8600], val_loss: 2916.3552\n",
      "Epoch [8620], val_loss: 2756.8789\n",
      "Epoch [8640], val_loss: 2808.5574\n",
      "Epoch [8660], val_loss: 2844.7732\n",
      "Epoch [8680], val_loss: 2576.8574\n",
      "Epoch [8700], val_loss: 2929.2024\n",
      "Epoch [8720], val_loss: 2719.7375\n",
      "Epoch [8740], val_loss: 2649.8425\n",
      "Epoch [8760], val_loss: 2688.4629\n",
      "Epoch [8780], val_loss: 2579.8674\n",
      "Epoch [8800], val_loss: 2956.5715\n",
      "Epoch [8820], val_loss: 2577.2051\n",
      "Epoch [8840], val_loss: 2910.3025\n",
      "Epoch [8860], val_loss: 2638.0525\n",
      "Epoch [8880], val_loss: 2701.9211\n",
      "Epoch [8900], val_loss: 2575.3459\n",
      "Epoch [8920], val_loss: 2642.1396\n",
      "Epoch [8940], val_loss: 2582.1814\n",
      "Epoch [8960], val_loss: 2708.7446\n",
      "Epoch [8980], val_loss: 2617.9036\n",
      "Epoch [9000], val_loss: 2609.2996\n",
      "Epoch [9020], val_loss: 2738.6648\n",
      "Epoch [9040], val_loss: 2875.7756\n",
      "Epoch [9060], val_loss: 2579.7998\n",
      "Epoch [9080], val_loss: 2610.4773\n",
      "Epoch [9100], val_loss: 2915.4392\n",
      "Epoch [9120], val_loss: 2739.8340\n",
      "Epoch [9140], val_loss: 3322.2605\n",
      "Epoch [9160], val_loss: 2622.3372\n",
      "Epoch [9180], val_loss: 2595.5964\n",
      "Epoch [9200], val_loss: 2692.6921\n",
      "Epoch [9220], val_loss: 3044.7354\n",
      "Epoch [9240], val_loss: 2621.6890\n",
      "Epoch [9260], val_loss: 2613.7964\n",
      "Epoch [9280], val_loss: 2665.1091\n",
      "Epoch [9300], val_loss: 2572.1428\n",
      "Epoch [9320], val_loss: 3146.6472\n",
      "Epoch [9340], val_loss: 2629.8870\n",
      "Epoch [9360], val_loss: 2585.7959\n",
      "Epoch [9380], val_loss: 2588.1384\n",
      "Epoch [9400], val_loss: 2615.6897\n",
      "Epoch [9420], val_loss: 2579.4072\n",
      "Epoch [9440], val_loss: 2598.6082\n",
      "Epoch [9460], val_loss: 2674.7703\n",
      "Epoch [9480], val_loss: 2724.5769\n",
      "Epoch [9500], val_loss: 2579.2222\n",
      "Epoch [9520], val_loss: 2597.8628\n",
      "Epoch [9540], val_loss: 2596.8284\n",
      "Epoch [9560], val_loss: 2996.0413\n",
      "Epoch [9580], val_loss: 2575.4036\n",
      "Epoch [9600], val_loss: 2578.0637\n",
      "Epoch [9620], val_loss: 2795.9163\n",
      "Epoch [9640], val_loss: 2665.0437\n",
      "Epoch [9660], val_loss: 2609.9373\n",
      "Epoch [9680], val_loss: 2976.1582\n"
     ]
    },
    {
     "name": "stdout",
     "output_type": "stream",
     "text": [
      "Epoch [9700], val_loss: 3524.5325\n",
      "Epoch [9720], val_loss: 2610.2439\n",
      "Epoch [9740], val_loss: 2592.3911\n",
      "Epoch [9760], val_loss: 2604.0413\n",
      "Epoch [9780], val_loss: 2580.0193\n",
      "Epoch [9800], val_loss: 3169.8542\n",
      "Epoch [9820], val_loss: 2877.5369\n",
      "Epoch [9840], val_loss: 3084.0325\n",
      "Epoch [9860], val_loss: 2680.2581\n",
      "Epoch [9880], val_loss: 2573.9756\n",
      "Epoch [9900], val_loss: 2930.5842\n",
      "Epoch [9920], val_loss: 2571.3828\n",
      "Epoch [9940], val_loss: 2869.2117\n",
      "Epoch [9960], val_loss: 2706.0027\n",
      "Epoch [9980], val_loss: 2579.2283\n",
      "Epoch [10000], val_loss: 2850.3840\n"
     ]
    },
    {
     "data": {
      "image/png": "[encoded data removed]",
      "text/plain": [
       "<Figure size 432x288 with 1 Axes>"
      ]
     },
     "metadata": {
      "needs_background": "light"
     },
     "output_type": "display_data"
    }
   ],
   "source": [
    "epochs = 10000\n",
    "lr = 1\n",
    "history1 = fit(epochs, lr, model, train_loader, val_loader)\n",
    "losses = []\n",
    "for obj in history1:\n",
    "    losses.append(obj['val_loss'])\n",
    "plt.plot(losses);"
   ]
  },
  {
   "cell_type": "code",
   "execution_count": 241,
   "metadata": {},
   "outputs": [
    {
     "name": "stdout",
     "output_type": "stream",
     "text": [
      "Epoch [20], val_loss: 2576.6462\n",
      "Epoch [40], val_loss: 2571.1790\n",
      "Epoch [60], val_loss: 2574.6868\n",
      "Epoch [80], val_loss: 2572.6204\n",
      "Epoch [100], val_loss: 2575.1228\n",
      "Epoch [120], val_loss: 2585.1423\n",
      "Epoch [140], val_loss: 2571.1321\n",
      "Epoch [160], val_loss: 2571.3318\n",
      "Epoch [180], val_loss: 2572.1833\n",
      "Epoch [200], val_loss: 2571.0767\n",
      "Epoch [220], val_loss: 2570.7776\n",
      "Epoch [240], val_loss: 2581.2219\n",
      "Epoch [260], val_loss: 2571.1809\n",
      "Epoch [280], val_loss: 2576.8992\n",
      "Epoch [300], val_loss: 2579.5840\n",
      "Epoch [320], val_loss: 2571.2686\n",
      "Epoch [340], val_loss: 2571.7217\n",
      "Epoch [360], val_loss: 2573.5569\n",
      "Epoch [380], val_loss: 2572.9348\n",
      "Epoch [400], val_loss: 2577.0056\n",
      "Epoch [420], val_loss: 2571.6177\n",
      "Epoch [440], val_loss: 2572.1394\n",
      "Epoch [460], val_loss: 2572.0920\n",
      "Epoch [480], val_loss: 2585.1917\n",
      "Epoch [500], val_loss: 2571.7996\n",
      "Epoch [520], val_loss: 2591.9626\n",
      "Epoch [540], val_loss: 2571.5637\n",
      "Epoch [560], val_loss: 2575.1348\n",
      "Epoch [580], val_loss: 2578.4160\n",
      "Epoch [600], val_loss: 2571.7764\n",
      "Epoch [620], val_loss: 2571.5647\n",
      "Epoch [640], val_loss: 2572.2188\n",
      "Epoch [660], val_loss: 2579.9641\n",
      "Epoch [680], val_loss: 2580.5876\n",
      "Epoch [700], val_loss: 2572.4570\n",
      "Epoch [720], val_loss: 2579.4878\n",
      "Epoch [740], val_loss: 2580.5020\n",
      "Epoch [760], val_loss: 2572.1775\n",
      "Epoch [780], val_loss: 2572.3142\n",
      "Epoch [800], val_loss: 2572.1660\n",
      "Epoch [820], val_loss: 2574.6340\n",
      "Epoch [840], val_loss: 2573.3555\n",
      "Epoch [860], val_loss: 2572.3035\n",
      "Epoch [880], val_loss: 2572.5420\n",
      "Epoch [900], val_loss: 2572.4993\n",
      "Epoch [920], val_loss: 2585.7422\n",
      "Epoch [940], val_loss: 2577.0139\n",
      "Epoch [960], val_loss: 2572.8638\n",
      "Epoch [980], val_loss: 2572.2026\n",
      "Epoch [1000], val_loss: 2572.7317\n"
     ]
    },
    {
     "data": {
      "image/png": "[encoded data removed]",
      "text/plain": [
       "<Figure size 432x288 with 1 Axes>"
      ]
     },
     "metadata": {
      "needs_background": "light"
     },
     "output_type": "display_data"
    }
   ],
   "source": [
    "epochs = 1000\n",
    "lr = 1e-1\n",
    "history2 = fit(epochs, lr, model, train_loader, val_loader)\n",
    "losses = []\n",
    "for obj in history2:\n",
    "    losses.append(obj['val_loss'])\n",
    "plt.plot(losses);"
   ]
  },
  {
   "cell_type": "code",
   "execution_count": 242,
   "metadata": {},
   "outputs": [
    {
     "name": "stdout",
     "output_type": "stream",
     "text": [
      "Epoch [20], val_loss: 2572.8315\n",
      "Epoch [40], val_loss: 2573.2881\n",
      "Epoch [60], val_loss: 2573.1033\n",
      "Epoch [80], val_loss: 2573.2322\n",
      "Epoch [100], val_loss: 2573.3069\n",
      "Epoch [120], val_loss: 2573.1243\n",
      "Epoch [140], val_loss: 2573.3245\n",
      "Epoch [160], val_loss: 2572.8833\n",
      "Epoch [180], val_loss: 2573.2957\n",
      "Epoch [200], val_loss: 2573.5205\n",
      "Epoch [220], val_loss: 2573.1633\n",
      "Epoch [240], val_loss: 2572.9824\n",
      "Epoch [260], val_loss: 2573.3083\n",
      "Epoch [280], val_loss: 2572.8989\n",
      "Epoch [300], val_loss: 2573.1711\n",
      "Epoch [320], val_loss: 2573.4368\n",
      "Epoch [340], val_loss: 2573.4111\n",
      "Epoch [360], val_loss: 2573.1941\n",
      "Epoch [380], val_loss: 2573.2998\n",
      "Epoch [400], val_loss: 2573.2922\n",
      "Epoch [420], val_loss: 2573.3928\n",
      "Epoch [440], val_loss: 2573.1633\n",
      "Epoch [460], val_loss: 2573.6902\n",
      "Epoch [480], val_loss: 2573.3088\n",
      "Epoch [500], val_loss: 2573.1763\n"
     ]
    },
    {
     "data": {
      "image/png": "[encoded data removed]",
      "text/plain": [
       "<Figure size 432x288 with 1 Axes>"
      ]
     },
     "metadata": {
      "needs_background": "light"
     },
     "output_type": "display_data"
    }
   ],
   "source": [
    "epochs = 500\n",
    "lr = 1e-2\n",
    "history3 = fit(epochs, lr, model, train_loader, val_loader)\n",
    "losses = []\n",
    "for obj in history3:\n",
    "    losses.append(obj['val_loss'])\n",
    "plt.plot(losses);"
   ]
  },
  {
   "cell_type": "code",
   "execution_count": 243,
   "metadata": {},
   "outputs": [
    {
     "name": "stdout",
     "output_type": "stream",
     "text": [
      "Epoch [20], val_loss: 2573.2935\n",
      "Epoch [40], val_loss: 2573.3352\n",
      "Epoch [60], val_loss: 2573.3337\n",
      "Epoch [80], val_loss: 2573.3430\n",
      "Epoch [100], val_loss: 2573.3171\n",
      "Epoch [120], val_loss: 2573.3494\n",
      "Epoch [140], val_loss: 2573.3362\n",
      "Epoch [160], val_loss: 2573.3452\n",
      "Epoch [180], val_loss: 2573.3201\n",
      "Epoch [200], val_loss: 2573.3237\n",
      "Epoch [220], val_loss: 2573.3323\n",
      "Epoch [240], val_loss: 2573.3511\n",
      "Epoch [250], val_loss: 2573.3381\n"
     ]
    },
    {
     "data": {
      "image/png": "[encoded data removed]",
      "text/plain": [
       "<Figure size 432x288 with 1 Axes>"
      ]
     },
     "metadata": {
      "needs_background": "light"
     },
     "output_type": "display_data"
    }
   ],
   "source": [
    "epochs = 250\n",
    "lr = 1e-3\n",
    "history4 = fit(epochs, lr, model, train_loader, val_loader)\n",
    "losses = []\n",
    "for obj in history4:\n",
    "    losses.append(obj['val_loss'])\n",
    "plt.plot(losses);"
   ]
  },
  {
   "cell_type": "code",
   "execution_count": 244,
   "metadata": {},
   "outputs": [
    {
     "name": "stdout",
     "output_type": "stream",
     "text": [
      "Epoch [20], val_loss: 2573.3459\n",
      "Epoch [40], val_loss: 2573.3521\n",
      "Epoch [60], val_loss: 2573.3572\n",
      "Epoch [80], val_loss: 2573.3567\n",
      "Epoch [100], val_loss: 2573.3608\n",
      "Epoch [120], val_loss: 2573.3606\n",
      "Epoch [125], val_loss: 2573.3611\n"
     ]
    },
    {
     "data": {
      "image/png": "[encoded data removed]",
      "text/plain": [
       "<Figure size 432x288 with 1 Axes>"
      ]
     },
     "metadata": {
      "needs_background": "light"
     },
     "output_type": "display_data"
    }
   ],
   "source": [
    "epochs = 125\n",
    "lr = 1e-4\n",
    "history5 = fit(epochs, lr, model, train_loader, val_loader)\n",
    "losses = []\n",
    "for obj in history5:\n",
    "    losses.append(obj['val_loss'])\n",
    "plt.plot(losses);"
   ]
  },
  {
   "cell_type": "markdown",
   "metadata": {},
   "source": [
    "**Q: What is the final validation loss of your model?**"
   ]
  },
  {
   "cell_type": "code",
   "execution_count": 245,
   "metadata": {},
   "outputs": [
    {
     "data": {
      "text/plain": [
       "2573.361083984375"
      ]
     },
     "execution_count": 245,
     "metadata": {},
     "output_type": "execute_result"
    }
   ],
   "source": [
    "val_loss = losses[-1]\n",
    "val_loss"
   ]
  },
  {
   "cell_type": "markdown",
   "metadata": {},
   "source": [
    "Let's log the final validation loss to Jovian and commit the notebook"
   ]
  },
  {
   "cell_type": "code",
   "execution_count": 246,
   "metadata": {},
   "outputs": [
    {
     "name": "stdout",
     "output_type": "stream",
     "text": [
      "[jovian] Metrics logged.\u001b[0m\n"
     ]
    }
   ],
   "source": [
    "jovian.log_metrics(val_loss=val_loss)"
   ]
  },
  {
   "cell_type": "code",
   "execution_count": 247,
   "metadata": {},
   "outputs": [
    {
     "data": {
      "application/javascript": [
       "window.require && require([\"base/js/namespace\"],function(Jupyter){Jupyter.notebook.save_checkpoint()})"
      ],
      "text/plain": [
       "<IPython.core.display.Javascript object>"
      ]
     },
     "metadata": {},
     "output_type": "display_data"
    },
    {
     "name": "stdout",
     "output_type": "stream",
     "text": [
      "[jovian] Attempting to save notebook..\u001b[0m\n",
      "[jovian] Updating notebook \"khalilhijazi/02-insurance-linear-regression\" on https://jovian.ml/\u001b[0m\n",
      "[jovian] Uploading notebook..\u001b[0m\n",
      "[jovian] Attaching records (metrics, hyperparameters, dataset etc.)\u001b[0m\n",
      "[jovian] Committed successfully! https://jovian.ml/khalilhijazi/02-insurance-linear-regression\u001b[0m\n"
     ]
    },
    {
     "data": {
      "text/plain": [
       "'https://jovian.ml/khalilhijazi/02-insurance-linear-regression'"
      ]
     },
     "execution_count": 247,
     "metadata": {},
     "output_type": "execute_result"
    }
   ],
   "source": [
    "jovian.commit(project=project_name, environment=None)"
   ]
  },
  {
   "cell_type": "markdown",
   "metadata": {},
   "source": [
    "Now scroll back up, re-initialize the model, and try different set of values for batch size, number of epochs, learning rate etc. Commit each experiment and use the \"Compare\" and \"View Diff\" options on Jovian to compare the different results."
   ]
  },
  {
   "cell_type": "markdown",
   "metadata": {},
   "source": [
    "## Step 5: Make predictions using the trained model\n",
    "\n",
    "**Q: Complete the following function definition to make predictions on a single input**"
   ]
  },
  {
   "cell_type": "code",
   "execution_count": 248,
   "metadata": {},
   "outputs": [],
   "source": [
    "def predict_single(input, target, model):\n",
    "    inputs = input.unsqueeze(0)\n",
    "    predictions = model(inputs)                # fill this\n",
    "    prediction = predictions[0].detach()\n",
    "    print(\"Input:\", input)\n",
    "    print(\"Target:\", target)\n",
    "    print(\"Prediction:\", prediction)"
   ]
  },
  {
   "cell_type": "code",
   "execution_count": 249,
   "metadata": {},
   "outputs": [
    {
     "name": "stdout",
     "output_type": "stream",
     "text": [
      "Input: tensor([47.0000,  0.0000, 37.4400,  1.0000,  0.0000,  3.0000])\n",
      "Target: tensor([8300.2002])\n",
      "Prediction: tensor([8892.8066])\n"
     ]
    }
   ],
   "source": [
    "input, target = val_ds[0]\n",
    "predict_single(input, target, model)"
   ]
  },
  {
   "cell_type": "code",
   "execution_count": 250,
   "metadata": {},
   "outputs": [
    {
     "name": "stdout",
     "output_type": "stream",
     "text": [
      "Input: tensor([29.0000,  0.0000, 32.4064,  0.0000,  0.0000,  0.0000])\n",
      "Target: tensor([3825.2876])\n",
      "Prediction: tensor([4379.1919])\n"
     ]
    }
   ],
   "source": [
    "input, target = val_ds[10]\n",
    "predict_single(input, target, model)"
   ]
  },
  {
   "cell_type": "code",
   "execution_count": 251,
   "metadata": {},
   "outputs": [
    {
     "name": "stdout",
     "output_type": "stream",
     "text": [
      "Input: tensor([33.0000,  1.0000, 36.6548,  0.0000,  0.0000,  0.0000])\n",
      "Target: tensor([12032.7324])\n",
      "Prediction: tensor([5192.6011])\n"
     ]
    }
   ],
   "source": [
    "input, target = val_ds[23]\n",
    "predict_single(input, target, model)"
   ]
  },
  {
   "cell_type": "markdown",
   "metadata": {},
   "source": [
    "Are you happy with your model's predictions? Try to improve them further."
   ]
  },
  {
   "cell_type": "markdown",
   "metadata": {},
   "source": [
    "## (Optional) Step 6: Try another dataset & blog about it\n",
    "\n",
    "While this last step is optional for the submission of your assignment, we highly recommend that you do it. Try to clean up & replicate this notebook (or [this one](https://jovian.ml/aakashns/housing-linear-minimal), or [this one](https://jovian.ml/aakashns/mnist-logistic-minimal) ) for a different linear regression or logistic regression problem. This will help solidify your understanding, and give you a chance to differentiate the generic patters in machine learning from problem-specific details.\n",
    "\n",
    "Here are some sources to find good datasets:\n",
    "\n",
    "- https://lionbridge.ai/datasets/10-open-datasets-for-linear-regression/\n",
    "- https://www.kaggle.com/rtatman/datasets-for-regression-analysis\n",
    "- https://archive.ics.uci.edu/ml/datasets.php?format=&task=reg&att=&area=&numAtt=&numIns=&type=&sort=nameUp&view=table\n",
    "- https://people.sc.fsu.edu/~jburkardt/datasets/regression/regression.html\n",
    "- https://archive.ics.uci.edu/ml/datasets/wine+quality\n",
    "- https://pytorch.org/docs/stable/torchvision/datasets.html\n",
    "\n",
    "We also recommend that you write a blog about your approach to the problem. Here is a suggested structure for your post (feel free to experiment with it):\n",
    "\n",
    "- Interesting title & subtitle\n",
    "- Overview of what the blog covers (which dataset, linear regression or logistic regression, intro to PyTorch)\n",
    "- Downloading & exploring the data\n",
    "- Preparing the data for training\n",
    "- Creating a model using PyTorch\n",
    "- Training the model to fit the data\n",
    "- Your thoughts on how to experiment with different hyperparmeters to reduce loss\n",
    "- Making predictions using the model\n",
    "\n",
    "As with the previous assignment, you can [embed Juptyer notebook cells & outputs from Jovian](https://medium.com/jovianml/share-and-embed-jupyter-notebooks-online-with-jovian-ml-df709a03064e) into your blog. \n",
    "\n",
    "Don't forget to share your work on the forum: https://jovian.ml/forum/t/share-your-work-here-assignment-2/4931"
   ]
  },
  {
   "cell_type": "code",
   "execution_count": null,
   "metadata": {},
   "outputs": [
    {
     "data": {
      "application/javascript": [
       "window.require && require([\"base/js/namespace\"],function(Jupyter){Jupyter.notebook.save_checkpoint()})"
      ],
      "text/plain": [
       "<IPython.core.display.Javascript object>"
      ]
     },
     "metadata": {},
     "output_type": "display_data"
    },
    {
     "name": "stdout",
     "output_type": "stream",
     "text": [
      "[jovian] Attempting to save notebook..\u001b[0m\n",
      "[jovian] Updating notebook \"khalilhijazi/02-insurance-linear-regression\" on https://jovian.ml/\u001b[0m\n",
      "[jovian] Uploading notebook..\u001b[0m\n",
      "[jovian] Attaching records (metrics, hyperparameters, dataset etc.)\u001b[0m\n",
      "[jovian] Committed successfully! https://jovian.ml/khalilhijazi/02-insurance-linear-regression\u001b[0m\n"
     ]
    },
    {
     "data": {
      "application/javascript": [
       "window.require && require([\"base/js/namespace\"],function(Jupyter){Jupyter.notebook.save_checkpoint()})"
      ],
      "text/plain": [
       "<IPython.core.display.Javascript object>"
      ]
     },
     "metadata": {},
     "output_type": "display_data"
    },
    {
     "name": "stdout",
     "output_type": "stream",
     "text": [
      "[jovian] Attempting to save notebook..\u001b[0m\n"
     ]
    }
   ],
   "source": [
    "jovian.commit(project=project_name, environment=None)\n",
    "jovian.commit(project=project_name, environment=None) # try again, kaggle fails sometimes"
   ]
  },
  {
   "cell_type": "code",
   "execution_count": null,
   "metadata": {},
   "outputs": [],
   "source": []
  }
 ],
 "metadata": {
  "kernelspec": {
   "display_name": "Python 3",
   "language": "python",
   "name": "python3"
  },
  "language_info": {
   "codemirror_mode": {
    "name": "ipython",
    "version": 3
   },
   "file_extension": ".py",
   "mimetype": "text/x-python",
   "name": "python",
   "nbconvert_exporter": "python",
   "pygments_lexer": "ipython3",
   "version": "3.7.6"
  }
 },
 "nbformat": 4,
 "nbformat_minor": 4
}
